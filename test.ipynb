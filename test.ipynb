{
 "cells": [
  {
   "cell_type": "code",
   "execution_count": 1,
   "metadata": {},
   "outputs": [],
   "source": [
    "import tile\n",
    "import numpy as np\n",
    "import matplotlib.pyplot as plt\n",
    "from canvas import Canvas, Cell"
   ]
  },
  {
   "cell_type": "code",
   "execution_count": 2,
   "metadata": {},
   "outputs": [
    {
     "name": "stdout",
     "output_type": "stream",
     "text": [
      "4\n",
      "16\n",
      "16\n",
      "16\n",
      "16\n",
      "16\n",
      "12\n"
     ]
    }
   ],
   "source": [
    "ts = tile.Tileset('tiles/')"
   ]
  },
  {
   "cell_type": "code",
   "execution_count": 3,
   "metadata": {},
   "outputs": [],
   "source": [
    "a = ts.tiles[list(ts.tiles)[1]].joints[2]"
   ]
  },
  {
   "cell_type": "code",
   "execution_count": 4,
   "metadata": {},
   "outputs": [],
   "source": [
    "options = []\n",
    "\n",
    "for tile in list(ts.tiles.values()):\n",
    "    for joint in tile.joints:\n",
    "        if a.is_connectable(joint):\n",
    "            options.append([tile.name,joint])\n",
    "        "
   ]
  },
  {
   "cell_type": "code",
   "execution_count": 5,
   "metadata": {},
   "outputs": [
    {
     "data": {
      "text/plain": [
       "Joint(position='d', rotations=0, hash_val='ffffff00a2e8ed1c24ed1c24ed1c24ed1c2400a2e8ffffff')"
      ]
     },
     "execution_count": 5,
     "metadata": {},
     "output_type": "execute_result"
    }
   ],
   "source": [
    "a"
   ]
  },
  {
   "cell_type": "code",
   "execution_count": 6,
   "metadata": {},
   "outputs": [
    {
     "data": {
      "text/plain": [
       "[['00.png',\n",
       "  Joint(position='u', rotations=2, hash_val='ffffff00a2e8ed1c24ed1c24ed1c24ed1c2400a2e8ffffff')]]"
      ]
     },
     "execution_count": 6,
     "metadata": {},
     "output_type": "execute_result"
    }
   ],
   "source": [
    "options"
   ]
  },
  {
   "cell_type": "code",
   "execution_count": 7,
   "metadata": {},
   "outputs": [
    {
     "data": {
      "image/png": "[encoded data removed]",
      "text/plain": [
       "<PIL.Image.Image image mode=RGB size=8x8 at 0x1BB2BF37370>"
      ]
     },
     "execution_count": 7,
     "metadata": {},
     "output_type": "execute_result"
    },
    {
     "data": {
      "image/png": "[encoded data removed]",
      "text/plain": [
       "<Figure size 432x288 with 1 Axes>"
      ]
     },
     "metadata": {
      "needs_background": "light"
     },
     "output_type": "display_data"
    }
   ],
   "source": [
    "ts.tiles['00.png'].render()"
   ]
  },
  {
   "cell_type": "code",
   "execution_count": 8,
   "metadata": {},
   "outputs": [
    {
     "data": {
      "image/png": "[encoded data removed]",
      "text/plain": [
       "<PIL.Image.Image image mode=RGB size=8x8 at 0x1BB2C20CA00>"
      ]
     },
     "execution_count": 8,
     "metadata": {},
     "output_type": "execute_result"
    },
    {
     "data": {
      "image/png": "[encoded data removed]",
      "text/plain": [
       "<Figure size 432x288 with 1 Axes>"
      ]
     },
     "metadata": {
      "needs_background": "light"
     },
     "output_type": "display_data"
    }
   ],
   "source": [
    "ts.tiles['00.png'].render(2)"
   ]
  },
  {
   "cell_type": "code",
   "execution_count": 9,
   "metadata": {},
   "outputs": [
    {
     "name": "stdout",
     "output_type": "stream",
     "text": [
      "[0, 0]\n",
      "Cell(collapsed=False, tile=None, options=[], north=None, east=[1, 0], south=[0, 1], west=None)\n",
      "[0, 1]\n",
      "Cell(collapsed=False, tile=None, options=[], north=[0, 0], east=[1, 1], south=[0, 2], west=None)\n",
      "[0, 2]\n",
      "Cell(collapsed=False, tile=None, options=[], north=[0, 1], east=[1, 2], south=None, west=None)\n",
      "[1, 0]\n",
      "Cell(collapsed=False, tile=None, options=[], north=None, east=[2, 0], south=[1, 1], west=[0, 0])\n",
      "[1, 1]\n",
      "Cell(collapsed=False, tile=None, options=[], north=[1, 0], east=[2, 1], south=[1, 2], west=[0, 1])\n",
      "[1, 2]\n",
      "Cell(collapsed=False, tile=None, options=[], north=[1, 1], east=[2, 2], south=None, west=[0, 2])\n",
      "[2, 0]\n",
      "Cell(collapsed=False, tile=None, options=[], north=None, east=None, south=[2, 1], west=[1, 0])\n",
      "[2, 1]\n",
      "Cell(collapsed=False, tile=None, options=[], north=[2, 0], east=None, south=[2, 2], west=[1, 1])\n",
      "[2, 2]\n",
      "Cell(collapsed=False, tile=None, options=[], north=[2, 1], east=None, south=None, west=[1, 2])\n"
     ]
    },
    {
     "data": {
      "text/plain": [
       "array([[Cell(collapsed=False, tile=None, options=[], north=None, east=[1, 0], south=[0, 1], west=None),\n",
       "        Cell(collapsed=False, tile=None, options=[], north=[0, 0], east=[1, 1], south=[0, 2], west=None),\n",
       "        Cell(collapsed=False, tile=None, options=[], north=[0, 1], east=[1, 2], south=None, west=None)],\n",
       "       [Cell(collapsed=False, tile=None, options=[], north=None, east=[2, 0], south=[1, 1], west=[0, 0]),\n",
       "        Cell(collapsed=False, tile=None, options=[], north=[1, 0], east=[2, 1], south=[1, 2], west=[0, 1]),\n",
       "        Cell(collapsed=False, tile=None, options=[], north=[1, 1], east=[2, 2], south=None, west=[0, 2])],\n",
       "       [Cell(collapsed=False, tile=None, options=[], north=None, east=None, south=[2, 1], west=[1, 0]),\n",
       "        Cell(collapsed=False, tile=None, options=[], north=[2, 0], east=None, south=[2, 2], west=[1, 1]),\n",
       "        Cell(collapsed=False, tile=None, options=[], north=[2, 1], east=None, south=None, west=[1, 2])]],\n",
       "      dtype=object)"
      ]
     },
     "execution_count": 9,
     "metadata": {},
     "output_type": "execute_result"
    }
   ],
   "source": [
    "Canvas(3, 3).grid"
   ]
  }
 ],
 "metadata": {
  "kernelspec": {
   "display_name": "Python 3",
   "language": "python",
   "name": "python3"
  },
  "language_info": {
   "codemirror_mode": {
    "name": "ipython",
    "version": 3
   },
   "file_extension": ".py",
   "mimetype": "text/x-python",
   "name": "python",
   "nbconvert_exporter": "python",
   "pygments_lexer": "ipython3",
   "version": "3.8.5"
  },
  "vscode": {
   "interpreter": {
    "hash": "88279d2366fe020547cde40dd65aa0e3aa662a6ec1f3ca12d88834876c85e1a6"
   }
  }
 },
 "nbformat": 4,
 "nbformat_minor": 2
}
