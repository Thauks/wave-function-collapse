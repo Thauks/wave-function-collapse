{
 "cells": [
  {
   "cell_type": "code",
   "execution_count": 1,
   "metadata": {},
   "outputs": [],
   "source": [
    "import tile\n",
    "import numpy as np"
   ]
  },
  {
   "cell_type": "code",
   "execution_count": 2,
   "metadata": {},
   "outputs": [
    {
     "name": "stdout",
     "output_type": "stream",
     "text": [
      "[Joint(position='u', rotations=0, hash_val='000000000000000000000000000000000000000000000000'), Joint(position='r', rotations=0, hash_val='000000000000000000000000000000000000000000000000'), Joint(position='d', rotations=0, hash_val='000000000000000000000000000000000000000000000000'), Joint(position='l', rotations=0, hash_val='000000000000000000000000000000000000000000000000'), Joint(position='u', rotations=1, hash_val='000000000000000000000000000000000000000000000000'), Joint(position='r', rotations=1, hash_val='000000000000000000000000000000000000000000000000'), Joint(position='d', rotations=1, hash_val='000000000000000000000000000000000000000000000000'), Joint(position='l', rotations=1, hash_val='000000000000000000000000000000000000000000000000'), Joint(position='u', rotations=2, hash_val='000000000000000000000000000000000000000000000000'), Joint(position='r', rotations=2, hash_val='000000000000000000000000000000000000000000000000'), Joint(position='d', rotations=2, hash_val='000000000000000000000000000000000000000000000000'), Joint(position='l', rotations=2, hash_val='000000000000000000000000000000000000000000000000'), Joint(position='u', rotations=3, hash_val='000000000000000000000000000000000000000000000000'), Joint(position='r', rotations=3, hash_val='000000000000000000000000000000000000000000000000'), Joint(position='d', rotations=3, hash_val='000000000000000000000000000000000000000000000000'), Joint(position='l', rotations=3, hash_val='000000000000000000000000000000000000000000000000')]\n",
      "[Joint(position='u', rotations=0, hash_val='000001000002000003000004000005000006000007000008'), Joint(position='r', rotations=0, hash_val='000008ed1c24ed1c24ed1c24ed1c24ed1c2400a2e8ffffff'), Joint(position='d', rotations=0, hash_val='ffffff00a2e8ed1c24ed1c24ed1c24ed1c2400a2e8ffffff'), Joint(position='l', rotations=0, hash_val='ffffff00a2e8ed1c24ed1c24ed1c24ed1c24ed1c24000001'), Joint(position='u', rotations=1, hash_val='ffffff00a2e8ed1c24ed1c24ed1c24ed1c24ed1c24000001'), Joint(position='r', rotations=1, hash_val='000001000002000003000004000005000006000007000008'), Joint(position='d', rotations=1, hash_val='000008ed1c24ed1c24ed1c24ed1c24ed1c2400a2e8ffffff'), Joint(position='l', rotations=1, hash_val='ffffff00a2e8ed1c24ed1c24ed1c24ed1c2400a2e8ffffff'), Joint(position='u', rotations=2, hash_val='ffffff00a2e8ed1c24ed1c24ed1c24ed1c2400a2e8ffffff'), Joint(position='r', rotations=2, hash_val='ffffff00a2e8ed1c24ed1c24ed1c24ed1c24ed1c24000001'), Joint(position='d', rotations=2, hash_val='000001000002000003000004000005000006000007000008'), Joint(position='l', rotations=2, hash_val='000008ed1c24ed1c24ed1c24ed1c24ed1c2400a2e8ffffff'), Joint(position='u', rotations=3, hash_val='000008ed1c24ed1c24ed1c24ed1c24ed1c2400a2e8ffffff'), Joint(position='r', rotations=3, hash_val='ffffff00a2e8ed1c24ed1c24ed1c24ed1c2400a2e8ffffff'), Joint(position='d', rotations=3, hash_val='ffffff00a2e8ed1c24ed1c24ed1c24ed1c24ed1c24000001'), Joint(position='l', rotations=3, hash_val='000001000002000003000004000005000006000007000008')]\n",
      "[Joint(position='u', rotations=0, hash_val='000000000000000000ffffffffffff000000000000000000'), Joint(position='r', rotations=0, hash_val='000000000000000000000000000000000000000000000000'), Joint(position='d', rotations=0, hash_val='000000000000000000ffffffffffff000000000000000000'), Joint(position='l', rotations=0, hash_val='000000000000000000000000000000000000000000000000'), Joint(position='u', rotations=1, hash_val='000000000000000000000000000000000000000000000000'), Joint(position='r', rotations=1, hash_val='000000000000000000ffffffffffff000000000000000000'), Joint(position='d', rotations=1, hash_val='000000000000000000000000000000000000000000000000'), Joint(position='l', rotations=1, hash_val='000000000000000000ffffffffffff000000000000000000'), Joint(position='u', rotations=2, hash_val='000000000000000000ffffffffffff000000000000000000'), Joint(position='r', rotations=2, hash_val='000000000000000000000000000000000000000000000000'), Joint(position='d', rotations=2, hash_val='000000000000000000ffffffffffff000000000000000000'), Joint(position='l', rotations=2, hash_val='000000000000000000000000000000000000000000000000'), Joint(position='u', rotations=3, hash_val='000000000000000000000000000000000000000000000000'), Joint(position='r', rotations=3, hash_val='000000000000000000ffffffffffff000000000000000000'), Joint(position='d', rotations=3, hash_val='000000000000000000000000000000000000000000000000'), Joint(position='l', rotations=3, hash_val='000000000000000000ffffffffffff000000000000000000')]\n",
      "[Joint(position='u', rotations=0, hash_val='000000000000000000000000000000000000000000000000'), Joint(position='r', rotations=0, hash_val='000000000000000000ffffffffffff000000000000000000'), Joint(position='d', rotations=0, hash_val='000000000000000000ffffffffffff000000000000000000'), Joint(position='l', rotations=0, hash_val='000000000000000000000000000000000000000000000000'), Joint(position='u', rotations=1, hash_val='000000000000000000000000000000000000000000000000'), Joint(position='r', rotations=1, hash_val='000000000000000000000000000000000000000000000000'), Joint(position='d', rotations=1, hash_val='000000000000000000ffffffffffff000000000000000000'), Joint(position='l', rotations=1, hash_val='000000000000000000ffffffffffff000000000000000000'), Joint(position='u', rotations=2, hash_val='000000000000000000ffffffffffff000000000000000000'), Joint(position='r', rotations=2, hash_val='000000000000000000000000000000000000000000000000'), Joint(position='d', rotations=2, hash_val='000000000000000000000000000000000000000000000000'), Joint(position='l', rotations=2, hash_val='000000000000000000ffffffffffff000000000000000000'), Joint(position='u', rotations=3, hash_val='000000000000000000ffffffffffff000000000000000000'), Joint(position='r', rotations=3, hash_val='000000000000000000ffffffffffff000000000000000000'), Joint(position='d', rotations=3, hash_val='000000000000000000000000000000000000000000000000'), Joint(position='l', rotations=3, hash_val='000000000000000000000000000000000000000000000000')]\n",
      "[Joint(position='u', rotations=0, hash_val='000000000000000000000000000000000000000000000000'), Joint(position='r', rotations=0, hash_val='000000000000000000000000000000000000000000000000'), Joint(position='d', rotations=0, hash_val='000000000000000000000000000000000000000000000000'), Joint(position='l', rotations=0, hash_val='000000000000000000ffffffffffff000000000000000000'), Joint(position='u', rotations=1, hash_val='000000000000000000ffffffffffff000000000000000000'), Joint(position='r', rotations=1, hash_val='000000000000000000000000000000000000000000000000'), Joint(position='d', rotations=1, hash_val='000000000000000000000000000000000000000000000000'), Joint(position='l', rotations=1, hash_val='000000000000000000000000000000000000000000000000'), Joint(position='u', rotations=2, hash_val='000000000000000000000000000000000000000000000000'), Joint(position='r', rotations=2, hash_val='000000000000000000ffffffffffff000000000000000000'), Joint(position='d', rotations=2, hash_val='000000000000000000000000000000000000000000000000'), Joint(position='l', rotations=2, hash_val='000000000000000000000000000000000000000000000000'), Joint(position='u', rotations=3, hash_val='000000000000000000000000000000000000000000000000'), Joint(position='r', rotations=3, hash_val='000000000000000000000000000000000000000000000000'), Joint(position='d', rotations=3, hash_val='000000000000000000ffffffffffff000000000000000000'), Joint(position='l', rotations=3, hash_val='000000000000000000000000000000000000000000000000')]\n",
      "[Joint(position='u', rotations=0, hash_val='000000000000000000000000000000000000000000000000'), Joint(position='r', rotations=0, hash_val='000000000000000000ffffffffffff000000000000000000'), Joint(position='d', rotations=0, hash_val='000000000000000000000000000000000000000000000000'), Joint(position='l', rotations=0, hash_val='000000000000000000ffffffffffff000000000000000000'), Joint(position='u', rotations=1, hash_val='000000000000000000ffffffffffff000000000000000000'), Joint(position='r', rotations=1, hash_val='000000000000000000000000000000000000000000000000'), Joint(position='d', rotations=1, hash_val='000000000000000000ffffffffffff000000000000000000'), Joint(position='l', rotations=1, hash_val='000000000000000000000000000000000000000000000000'), Joint(position='u', rotations=2, hash_val='000000000000000000000000000000000000000000000000'), Joint(position='r', rotations=2, hash_val='000000000000000000ffffffffffff000000000000000000'), Joint(position='d', rotations=2, hash_val='000000000000000000000000000000000000000000000000'), Joint(position='l', rotations=2, hash_val='000000000000000000ffffffffffff000000000000000000'), Joint(position='u', rotations=3, hash_val='000000000000000000ffffffffffff000000000000000000'), Joint(position='r', rotations=3, hash_val='000000000000000000000000000000000000000000000000'), Joint(position='d', rotations=3, hash_val='000000000000000000ffffffffffff000000000000000000'), Joint(position='l', rotations=3, hash_val='000000000000000000000000000000000000000000000000')]\n",
      "[Joint(position='u', rotations=0, hash_val='000000000000000000000000000000000000000000000000'), Joint(position='r', rotations=0, hash_val='000000000000000000ffffffffffff000000000000000000'), Joint(position='d', rotations=0, hash_val='000000000000000000000000000000000000000000000000'), Joint(position='l', rotations=0, hash_val='000000000000000000ffffffffffff000000000000000000'), Joint(position='u', rotations=1, hash_val='000000000000000000ffffffffffff000000000000000000'), Joint(position='r', rotations=1, hash_val='000000000000000000000000000000000000000000000000'), Joint(position='d', rotations=1, hash_val='000000000000000000ffffffffffff000000000000000000'), Joint(position='l', rotations=1, hash_val='000000000000000000000000000000000000000000000000'), Joint(position='u', rotations=2, hash_val='000000000000000000000000000000000000000000000000'), Joint(position='r', rotations=2, hash_val='000000000000000000ffffffffffff000000000000000000'), Joint(position='d', rotations=2, hash_val='000000000000000000000000000000000000000000000000'), Joint(position='l', rotations=2, hash_val='000000000000000000ffffffffffff000000000000000000'), Joint(position='u', rotations=3, hash_val='000000000000000000ffffffffffff000000000000000000'), Joint(position='r', rotations=3, hash_val='000000000000000000000000000000000000000000000000'), Joint(position='d', rotations=3, hash_val='000000000000000000ffffffffffff000000000000000000'), Joint(position='l', rotations=3, hash_val='000000000000000000000000000000000000000000000000')]\n",
      "[<tile.Tile object at 0x000002373B1584F0>, <tile.Tile object at 0x0000023739B989D0>, <tile.Tile object at 0x000002373B165E20>, <tile.Tile object at 0x000002373B174BB0>, <tile.Tile object at 0x000002373B174BE0>, <tile.Tile object at 0x000002373B1768B0>, <tile.Tile object at 0x000002373B1768E0>]\n"
     ]
    }
   ],
   "source": [
    "ts = tile.Tileset('tiles/')"
   ]
  },
  {
   "cell_type": "code",
   "execution_count": 3,
   "metadata": {},
   "outputs": [
    {
     "data": {
      "text/plain": [
       "array([[255, 255, 255],\n",
       "       [  0, 162, 232],\n",
       "       [237,  28,  36],\n",
       "       [237,  28,  36],\n",
       "       [237,  28,  36],\n",
       "       [237,  28,  36],\n",
       "       [  0, 162, 232],\n",
       "       [255, 255, 255]], dtype=uint8)"
      ]
     },
     "execution_count": 3,
     "metadata": {},
     "output_type": "execute_result"
    }
   ],
   "source": [
    "np.rot90(ts.tiles[1].array, 1, )[:,7]"
   ]
  },
  {
   "cell_type": "code",
   "execution_count": 4,
   "metadata": {},
   "outputs": [
    {
     "data": {
      "text/plain": [
       "array([[255, 255, 255],\n",
       "       [  0, 162, 232],\n",
       "       [237,  28,  36],\n",
       "       [237,  28,  36],\n",
       "       [237,  28,  36],\n",
       "       [237,  28,  36],\n",
       "       [237,  28,  36],\n",
       "       [  0,   0,   1]], dtype=uint8)"
      ]
     },
     "execution_count": 4,
     "metadata": {},
     "output_type": "execute_result"
    }
   ],
   "source": [
    "np.flip(ts.tiles[1].array[:, 0], axis=0)"
   ]
  },
  {
   "cell_type": "code",
   "execution_count": 5,
   "metadata": {},
   "outputs": [
    {
     "data": {
      "text/plain": [
       "'000001000002000003000004000005000006000007000008'"
      ]
     },
     "execution_count": 5,
     "metadata": {},
     "output_type": "execute_result"
    }
   ],
   "source": [
    "rgb2hex = lambda x: '%02x%02x%02x' %(x[0],x[1],x[2])\n",
    "\n",
    "''.join([rgb2hex(i) for i in ts.tiles[1].array[0, :]])"
   ]
  },
  {
   "cell_type": "code",
   "execution_count": 7,
   "metadata": {},
   "outputs": [
    {
     "data": {
      "text/plain": [
       "[Joint(position='u', rotations=0, hash_val='000001000002000003000004000005000006000007000008'),\n",
       " Joint(position='r', rotations=0, hash_val='000008ed1c24ed1c24ed1c24ed1c24ed1c2400a2e8ffffff'),\n",
       " Joint(position='d', rotations=0, hash_val='ffffff00a2e8ed1c24ed1c24ed1c24ed1c2400a2e8ffffff'),\n",
       " Joint(position='l', rotations=0, hash_val='ffffff00a2e8ed1c24ed1c24ed1c24ed1c24ed1c24000001'),\n",
       " Joint(position='u', rotations=1, hash_val='ffffff00a2e8ed1c24ed1c24ed1c24ed1c24ed1c24000001'),\n",
       " Joint(position='r', rotations=1, hash_val='000001000002000003000004000005000006000007000008'),\n",
       " Joint(position='d', rotations=1, hash_val='000008ed1c24ed1c24ed1c24ed1c24ed1c2400a2e8ffffff'),\n",
       " Joint(position='l', rotations=1, hash_val='ffffff00a2e8ed1c24ed1c24ed1c24ed1c2400a2e8ffffff'),\n",
       " Joint(position='u', rotations=2, hash_val='ffffff00a2e8ed1c24ed1c24ed1c24ed1c2400a2e8ffffff'),\n",
       " Joint(position='r', rotations=2, hash_val='ffffff00a2e8ed1c24ed1c24ed1c24ed1c24ed1c24000001'),\n",
       " Joint(position='d', rotations=2, hash_val='000001000002000003000004000005000006000007000008'),\n",
       " Joint(position='l', rotations=2, hash_val='000008ed1c24ed1c24ed1c24ed1c24ed1c2400a2e8ffffff'),\n",
       " Joint(position='u', rotations=3, hash_val='000008ed1c24ed1c24ed1c24ed1c24ed1c2400a2e8ffffff'),\n",
       " Joint(position='r', rotations=3, hash_val='ffffff00a2e8ed1c24ed1c24ed1c24ed1c2400a2e8ffffff'),\n",
       " Joint(position='d', rotations=3, hash_val='ffffff00a2e8ed1c24ed1c24ed1c24ed1c24ed1c24000001'),\n",
       " Joint(position='l', rotations=3, hash_val='000001000002000003000004000005000006000007000008')]"
      ]
     },
     "execution_count": 7,
     "metadata": {},
     "output_type": "execute_result"
    }
   ],
   "source": [
    "ts.tiles[1].joints"
   ]
  }
 ],
 "metadata": {
  "kernelspec": {
   "display_name": "Python 3",
   "language": "python",
   "name": "python3"
  },
  "language_info": {
   "codemirror_mode": {
    "name": "ipython",
    "version": 3
   },
   "file_extension": ".py",
   "mimetype": "text/x-python",
   "name": "python",
   "nbconvert_exporter": "python",
   "pygments_lexer": "ipython3",
   "version": "3.8.5"
  },
  "vscode": {
   "interpreter": {
    "hash": "88279d2366fe020547cde40dd65aa0e3aa662a6ec1f3ca12d88834876c85e1a6"
   }
  }
 },
 "nbformat": 4,
 "nbformat_minor": 2
}
